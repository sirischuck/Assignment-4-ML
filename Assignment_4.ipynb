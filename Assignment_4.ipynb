{
  "nbformat": 4,
  "nbformat_minor": 0,
  "metadata": {
    "colab": {
      "provenance": [],
      "authorship_tag": "ABX9TyNSfMkbnbRhK42GGAruIs+4",
      "include_colab_link": true
    },
    "kernelspec": {
      "name": "python3",
      "display_name": "Python 3"
    },
    "language_info": {
      "name": "python"
    }
  },
  "cells": [
    {
      "cell_type": "markdown",
      "metadata": {
        "id": "view-in-github",
        "colab_type": "text"
      },
      "source": [
        "<a href=\"https://colab.research.google.com/github/sirischuck/Assignment-4-ML/blob/main/Assignment_4.ipynb\" target=\"_parent\"><img src=\"https://colab.research.google.com/assets/colab-badge.svg\" alt=\"Open In Colab\"/></a>"
      ]
    },
    {
      "cell_type": "code",
      "execution_count": null,
      "metadata": {
        "id": "E6mE8ijqPDUK"
      },
      "outputs": [],
      "source": [
        "#use pandas for excel processing\n",
        "import pandas as pd\n",
        "import sklearn\n",
        "from sklearn import tree\n",
        "import numpy as np\n",
        "import math\n",
        "from collections import defaultdict\n",
        "import matplotlib.pyplot as plt\n"
      ]
    },
    {
      "cell_type": "code",
      "source": [
        "XFrames=pd.read_excel('Asssignment4_Data.xlsx', sheet_name=[0,1],index_col=0,usecols=range(0,9))\n",
        "YFrames=pd.read_excel('Asssignment4_Data.xlsx', sheet_name=[0,1],index_col=0,usecols=[8,9])\n",
        "\n",
        "Xtrain=XFrames[0].to_numpy()\n",
        "Xtest=XFrames[1].to_numpy()\n",
        "Ytrain=YFrames[0].to_numpy()\n",
        "Ytest=YFrames[1].to_numpy()"
      ],
      "metadata": {
        "id": "G7BjyZorTTky"
      },
      "execution_count": null,
      "outputs": []
    },
    {
      "cell_type": "code",
      "source": [
        "#hard coded lists of the averages and standard deviations of each class\n",
        "#for each feature \n",
        "#Because so many features were continuous, and the test data could in\n",
        "#theory fall outside of the discreet datasets, like # of bedrooms\n",
        "#I decided to treat all features as continuous\n",
        "ApptAvg=[7.333,1.286,6.104,1.505,1.214,6.857,3.429,38.714]\n",
        "ApptStd=[3.348,0.525,3.017,0.652,0.647,1.245,0.904,13.593]\n",
        "HousesAvg=[5.761,1.071,6.631,1.392,1.071,6.143,3.0,34.286]\n",
        "HousesStd=[0.528,0.175,2.082,0.197,0.776,0.639,0.535,11.78]\n",
        "CondosAvg=[7.416,1.333,6.025,1.553,1.333,6.833,3.333,39.667]\n",
        "CondosStd=[4.209,0.553,2.323,0.843,0.471,1.462,0.745,12.737]\n",
        "\n",
        "averages=[ApptAvg,HousesAvg,CondosAvg]\n",
        "standDevs=[ApptStd,HousesStd,CondosStd]\n",
        "ClassNames=['Appartment','House','Condo']\n",
        "Priors=[7/20,7/20,6/20]"
      ],
      "metadata": {
        "id": "lMXQwZ48j11M"
      },
      "execution_count": null,
      "outputs": []
    },
    {
      "cell_type": "code",
      "source": [
        "#generates the probability of finding a querry point in a given class\n",
        "#using the normal distributions of the given avg and std dev\n",
        "def ProbFromClass(ClassAvg,ClassStd,Querry,prior):\n",
        "  prob=prior\n",
        "  for avg,std,x in zip(ClassAvg,ClassStd,Querry):\n",
        "    normprob=1/((2*math.pi)**(1/2)*std)*math.exp(-1/2*((x-avg)/std)**2)\n",
        "    prob=prob*(normprob)\n",
        "  return prob\n",
        "\n",
        "def KeyOfMaxVal(Dict):\n",
        "  KeyMax=next(iter(Dict))\n",
        "  ValMax=Dict[KeyMax]\n",
        "  for k,v in Dict.items():\n",
        "    if v > ValMax:\n",
        "      ValMax=v\n",
        "      KeyMax=k \n",
        "  \n",
        "  return KeyMax\n",
        "\n",
        "truecount=0\n",
        "for x,y in zip(Xtest,Ytest):\n",
        "  probs={}\n",
        "  for avg,std,className,prior in zip(averages,standDevs,ClassNames,Priors):\n",
        "    probs[className]=ProbFromClass(avg,std,x,prior)\n",
        "    print('probability for', className, '=', probs[className])\n",
        "\n",
        "  if KeyOfMaxVal(probs)==y:\n",
        "    truecount+=1\n",
        "  print('By the MAP rule, the guess is',  KeyOfMaxVal(probs),'\\n')\n",
        "\n",
        "print(truecount/5,'%')\n",
        "  \n",
        "  \n",
        "\n",
        "  \n"
      ],
      "metadata": {
        "colab": {
          "base_uri": "https://localhost:8080/"
        },
        "id": "Yc05Bu4ppFdp",
        "outputId": "069bbd31-dcfb-4bac-9a0b-697a257cd568"
      },
      "execution_count": null,
      "outputs": [
        {
          "output_type": "stream",
          "name": "stdout",
          "text": [
            "probability for Appartment = 3.3303614147322514e-06\n",
            "probability for House = 2.22825829428734e-05\n",
            "probability for Condo = 3.1537494684223953e-06\n",
            "By the MAP rule, the guess is House \n",
            "\n",
            "probability for Appartment = 6.454741794099814e-07\n",
            "probability for House = 2.3088958238039606e-14\n",
            "probability for Condo = 3.392758742711634e-07\n",
            "By the MAP rule, the guess is Appartment \n",
            "\n",
            "probability for Appartment = 6.066933274066833e-08\n",
            "probability for House = 2.7305099158910264e-10\n",
            "probability for Condo = 1.9332987934492872e-08\n",
            "By the MAP rule, the guess is Appartment \n",
            "\n",
            "probability for Appartment = 1.760481259511428e-06\n",
            "probability for House = 1.9626136968520135e-17\n",
            "probability for Condo = 1.6677206843204681e-06\n",
            "By the MAP rule, the guess is Appartment \n",
            "\n",
            "probability for Appartment = 5.25890336675515e-07\n",
            "probability for House = 9.192855319708997e-36\n",
            "probability for Condo = 6.001652840659306e-07\n",
            "By the MAP rule, the guess is Condo \n",
            "\n",
            "0.0 %\n"
          ]
        }
      ]
    },
    {
      "cell_type": "code",
      "source": [],
      "metadata": {
        "id": "LAaO6IpNsBTc"
      },
      "execution_count": null,
      "outputs": []
    },
    {
      "cell_type": "code",
      "source": [
        "MaxDepth=2\n",
        "Tree= tree.DecisionTreeClassifier(max_depth=MaxDepth)\n",
        "\n",
        "Tree.fit(Xtrain,Ytrain)\n",
        "\n",
        "\n",
        "print(\"training results:\")\n",
        "TrainCorrect=0\n",
        "for pred,real in zip(Tree.predict(Xtrain),Ytrain):\n",
        "  if pred==real:\n",
        "    TrainCorrect=TrainCorrect+1\n",
        "print(TrainCorrect,\"/\",Xtrain.shape[0], \" \",TrainCorrect/Xtrain.shape[0]*100,\"%\")\n",
        "\n",
        "print(\"testing results\")\n",
        "TestCorrect=0\n",
        "\n",
        "for pred,real in zip(Tree.predict(Xtest),Ytest):\n",
        "  if pred==real:\n",
        "    TestCorrect=TestCorrect+1\n",
        "print(TestCorrect,\"/\",Xtest.shape[0], \" \",TestCorrect/Xtest.shape[0]*100,\"%\")\n",
        "\n",
        "tree.plot_tree(Tree)"
      ],
      "metadata": {
        "colab": {
          "base_uri": "https://localhost:8080/",
          "height": 491
        },
        "id": "daU74TptkPvN",
        "outputId": "94cda95c-bd19-45be-efaf-cede931c7ce7"
      },
      "execution_count": null,
      "outputs": [
        {
          "output_type": "stream",
          "name": "stdout",
          "text": [
            "training results:\n",
            "15 / 20   75.0 %\n",
            "testing results\n",
            "4 / 5   80.0 %\n"
          ]
        },
        {
          "output_type": "execute_result",
          "data": {
            "text/plain": [
              "[Text(0.5, 0.8333333333333334, 'X[7] <= 36.0\\ngini = 0.665\\nsamples = 20\\nvalue = [7, 6, 7]'),\n",
              " Text(0.25, 0.5, 'X[0] <= 8.411\\ngini = 0.56\\nsamples = 10\\nvalue = [2, 2, 6]'),\n",
              " Text(0.125, 0.16666666666666666, 'gini = 0.375\\nsamples = 8\\nvalue = [0, 2, 6]'),\n",
              " Text(0.375, 0.16666666666666666, 'gini = 0.0\\nsamples = 2\\nvalue = [2, 0, 0]'),\n",
              " Text(0.75, 0.5, 'X[0] <= 4.55\\ngini = 0.58\\nsamples = 10\\nvalue = [5, 4, 1]'),\n",
              " Text(0.625, 0.16666666666666666, 'gini = 0.0\\nsamples = 2\\nvalue = [0, 2, 0]'),\n",
              " Text(0.875, 0.16666666666666666, 'gini = 0.531\\nsamples = 8\\nvalue = [5, 2, 1]')]"
            ]
          },
          "metadata": {},
          "execution_count": 84
        },
        {
          "output_type": "display_data",
          "data": {
            "text/plain": [
              "<Figure size 432x288 with 1 Axes>"
            ],
            "image/png": "[encoded data removed]"
          },
          "metadata": {
            "needs_background": "light"
          }
        }
      ]
    },
    {
      "cell_type": "markdown",
      "source": [
        "Q2\n",
        "\n",
        "1. a. When using the default parameters the training accuracy is 100% because the dataset is small and decision trees can mimic any function with enough depth\\\n",
        "b. With default parameters the test accuracy is 40% because there is no reason for the model to generalize when overfitting creates the best test performance, and the dataset is so small that there is very little cost to overfitting.\n",
        "\n",
        "2. Restricting the depth makes the training accuracy lower, but increases the test accuracy a lot. This is expected because it stops the model from overfitting to the training set. The best value that I found was a depth of 2, when using the other default parameters.\n",
        "\n",
        "3. As explained in a few previous questions, decision trees can perfectly model any function, including the noise of that function. This means that with unrestricted depth it will always overfit to the training data. Decreasing the max depth reduced the model complexity which decreased the varience.\n",
        "\n",
        "4. when traced out the tree predicts that the given querry point is an apartment"
      ],
      "metadata": {
        "id": "1Zy7XbXfOfwp"
      }
    },
    {
      "cell_type": "code",
      "source": [
        "#returns the k labels of the k nearest neighboors to the querry point,\n",
        "#along with the distance to each point\n",
        "def kNearNeigh(K,Querry,xData,yData):\n",
        "  #print(Ytrain.shape)\n",
        "\n",
        "  neighbDist=np.full((K),(np.finfo(np.float64).max))\n",
        "  neighbCat=np.empty((K),dtype=object)\n",
        "  for x,y in zip(xData,yData[:,0]):\n",
        "    dist=np.linalg.norm(x-Querry)\n",
        "    if dist<np.amax(neighbDist,0):\n",
        "      neighbDist[np.argmax(neighbDist)]=dist\n",
        "      #print(y)\n",
        "      neighbCat[np.argmax(neighbDist)]=y\n",
        "\n",
        "  return neighbCat, neighbDist\n",
        "\n",
        "correctCounts=np.zeros((5))\n",
        "for k in range(1,6):\n",
        "  for querry,label in zip(Xtest,Ytest):\n",
        "    nearest=kNearNeigh(k,querry,Xtrain,Ytrain)\n",
        "    \n",
        "    neighboors=defaultdict(lambda :0)\n",
        "    for neigh in nearest[0]:\n",
        "      neighboors[neigh]+=1\n",
        "\n",
        "    max=0\n",
        "    majority=''\n",
        "    for neighboor,votes in neighboors.items():\n",
        "      if(votes>max):\n",
        "        max=votes\n",
        "        majority=neighboor\n",
        "      \n",
        "    if majority== label:\n",
        "      correctCounts[k-1]+=1\n",
        "\n",
        "  print(k,'nearest neighboors got',correctCounts[k-1],'correct and accuracy of', correctCounts[k-1]/5*100, '%')\n",
        "\n",
        "plt.plot(range(1,6),correctCounts/5,'*')\n",
        "\n"
      ],
      "metadata": {
        "colab": {
          "base_uri": "https://localhost:8080/",
          "height": 369
        },
        "id": "4v3fTtH9Rpu5",
        "outputId": "e06557e4-56dc-4180-eb5e-38b2b59c6164"
      },
      "execution_count": null,
      "outputs": [
        {
          "output_type": "stream",
          "name": "stdout",
          "text": [
            "1 nearest neighboors got 1.0 correct and accuracy of 20.0 %\n",
            "2 nearest neighboors got 1.0 correct and accuracy of 20.0 %\n",
            "3 nearest neighboors got 2.0 correct and accuracy of 40.0 %\n",
            "4 nearest neighboors got 2.0 correct and accuracy of 40.0 %\n",
            "5 nearest neighboors got 1.0 correct and accuracy of 20.0 %\n"
          ]
        },
        {
          "output_type": "execute_result",
          "data": {
            "text/plain": [
              "[<matplotlib.lines.Line2D at 0x7f047f7e4510>]"
            ]
          },
          "metadata": {},
          "execution_count": 73
        },
        {
          "output_type": "display_data",
          "data": {
            "text/plain": [
              "<Figure size 432x288 with 1 Axes>"
            ],
            "image/png": "[encoded data removed]"
          },
          "metadata": {
            "needs_background": "light"
          }
        }
      ]
    }
  ]
}